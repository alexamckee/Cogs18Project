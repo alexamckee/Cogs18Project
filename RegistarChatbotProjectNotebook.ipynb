{
 "cells": [
  {
   "cell_type": "markdown",
   "metadata": {},
   "source": [
    "Project Description:\n",
    "\n",
    "I created a chatbot that could be implemented at my job on campus at the Registrar's Office. The office deals with many programs and because of that at the front desk I spend most of my time directing people to who they need to speak with. The chatbot automates this process based on the area you need help with. There are nine options you can choose from and based on which one you choose it gives you follow up questions to direct you to person who needs to help you. "
   ]
  },
  {
   "cell_type": "code",
   "execution_count": 1,
   "metadata": {},
   "outputs": [],
   "source": [
    "from my_module.my_functions import *\n",
    "from my_module.my_test_functions import *"
   ]
  },
  {
   "cell_type": "code",
   "execution_count": 2,
   "metadata": {},
   "outputs": [],
   "source": [
    "test_remove_punctuation()"
   ]
  },
  {
   "cell_type": "code",
   "execution_count": 5,
   "metadata": {},
   "outputs": [
    {
     "name": "stdout",
     "output_type": "stream",
     "text": [
      "Thanks for coming to the Registrars Office\n",
      "Please type one of the following options:\n",
      "     Residency, Special Programs, Transcripts, Verifications, Fees, Diplomas\n",
      "     PID/PAC, Personal Info Updates, Veterans Benefits, or Other\n",
      "You can type quit at anytime to exit the chat\n",
      "INPUT :\ttranscripts\n",
      "Enter p if you are picking up a transcript or verification, Enter o if you would like help with ordering a transcript or verification, Enter i if you are an ivnestigator\n",
      "INPUT:\to\n",
      "Someone at the front desk will help you shortly with ordering\n"
     ]
    }
   ],
   "source": [
    "registrar_chat()"
   ]
  },
  {
   "cell_type": "code",
   "execution_count": null,
   "metadata": {},
   "outputs": [],
   "source": []
  }
 ],
 "metadata": {
  "kernelspec": {
   "display_name": "Python 3",
   "language": "python",
   "name": "python3"
  },
  "language_info": {
   "codemirror_mode": {
    "name": "ipython",
    "version": 3
   },
   "file_extension": ".py",
   "mimetype": "text/x-python",
   "name": "python",
   "nbconvert_exporter": "python",
   "pygments_lexer": "ipython3",
   "version": "3.6.7"
  }
 },
 "nbformat": 4,
 "nbformat_minor": 2
}
